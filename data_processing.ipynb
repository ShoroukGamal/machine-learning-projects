{
  "nbformat": 4,
  "nbformat_minor": 0,
  "metadata": {
    "colab": {
      "provenance": [],
      "authorship_tag": "ABX9TyPjo+WvctdklZyS7UOGNxCX",
      "include_colab_link": true
    },
    "kernelspec": {
      "name": "python3",
      "display_name": "Python 3"
    },
    "language_info": {
      "name": "python"
    }
  },
  "cells": [
    {
      "cell_type": "markdown",
      "metadata": {
        "id": "view-in-github",
        "colab_type": "text"
      },
      "source": [
        "<a href=\"https://colab.research.google.com/github/ShoroukGamal/machine-learning-projects/blob/main/data_processing.ipynb\" target=\"_parent\"><img src=\"https://colab.research.google.com/assets/colab-badge.svg\" alt=\"Open In Colab\"/></a>"
      ]
    },
    {
      "cell_type": "code",
      "execution_count": null,
      "metadata": {
        "id": "OrljSx88GQVJ"
      },
      "outputs": [],
      "source": [
        "import pandas as pd\n",
        "import numpy as np\n",
        "import matplotlib.pyplot as plt"
      ]
    },
    {
      "cell_type": "code",
      "source": [
        "df = pd.read_csv(\"WiDS Dataton.csv\")"
      ],
      "metadata": {
        "id": "u-uEVIo9GU8l"
      },
      "execution_count": null,
      "outputs": []
    },
    {
      "cell_type": "code",
      "source": [
        "df.head()"
      ],
      "metadata": {
        "colab": {
          "base_uri": "https://localhost:8080/",
          "height": 255
        },
        "id": "H8oM4F3YGfQw",
        "outputId": "698f24ee-6b37-4edf-e4a0-042f1775484d"
      },
      "execution_count": null,
      "outputs": [
        {
          "output_type": "execute_result",
          "data": {
            "text/plain": [
              "   Year_Factor State_Factor building_class  \\\n",
              "0            1      State_1     Commercial   \n",
              "1            1      State_1     Commercial   \n",
              "2            1      State_1     Commercial   \n",
              "3            1      State_1     Commercial   \n",
              "4            1      State_1     Commercial   \n",
              "\n",
              "                               facility_type  floor_area  year_built  \\\n",
              "0               Grocery_store_or_food_market     61242.0      1942.0   \n",
              "1  Warehouse_Distribution_or_Shipping_center    274000.0      1955.0   \n",
              "2                       Retail_Enclosed_mall    280025.0      1951.0   \n",
              "3                  Education_Other_classroom     55325.0      1980.0   \n",
              "4                  Warehouse_Nonrefrigerated     66000.0      1985.0   \n",
              "\n",
              "   energy_star_rating  ELEVATION  january_min_temp  january_avg_temp  ...  \\\n",
              "0                11.0        2.4                36              50.5  ...   \n",
              "1                45.0        1.8                36              50.5  ...   \n",
              "2                97.0        1.8                36              50.5  ...   \n",
              "3                46.0        1.8                36              50.5  ...   \n",
              "4               100.0        2.4                36              50.5  ...   \n",
              "\n",
              "   days_above_80F  days_above_90F  days_above_100F  days_above_110F  \\\n",
              "0              14               0                0                0   \n",
              "1              14               0                0                0   \n",
              "2              14               0                0                0   \n",
              "3              14               0                0                0   \n",
              "4              14               0                0                0   \n",
              "\n",
              "   direction_max_wind_speed  direction_peak_wind_speed  max_wind_speed  \\\n",
              "0                       1.0                        1.0             1.0   \n",
              "1                       1.0                        NaN             1.0   \n",
              "2                       1.0                        NaN             1.0   \n",
              "3                       1.0                        NaN             1.0   \n",
              "4                       1.0                        1.0             1.0   \n",
              "\n",
              "   days_with_fog    site_eui  id  \n",
              "0            NaN  248.682615   0  \n",
              "1           12.0   26.500150   1  \n",
              "2           12.0   24.693619   2  \n",
              "3           12.0   48.406926   3  \n",
              "4            NaN    3.899395   4  \n",
              "\n",
              "[5 rows x 64 columns]"
            ],
            "text/html": [
              "\n",
              "  <div id=\"df-52ae9ff7-9592-4c6d-996f-b6d2af3dbcd9\" class=\"colab-df-container\">\n",
              "    <div>\n",
              "<style scoped>\n",
              "    .dataframe tbody tr th:only-of-type {\n",
              "        vertical-align: middle;\n",
              "    }\n",
              "\n",
              "    .dataframe tbody tr th {\n",
              "        vertical-align: top;\n",
              "    }\n",
              "\n",
              "    .dataframe thead th {\n",
              "        text-align: right;\n",
              "    }\n",
              "</style>\n",
              "<table border=\"1\" class=\"dataframe\">\n",
              "  <thead>\n",
              "    <tr style=\"text-align: right;\">\n",
              "      <th></th>\n",
              "      <th>Year_Factor</th>\n",
              "      <th>State_Factor</th>\n",
              "      <th>building_class</th>\n",
              "      <th>facility_type</th>\n",
              "      <th>floor_area</th>\n",
              "      <th>year_built</th>\n",
              "      <th>energy_star_rating</th>\n",
              "      <th>ELEVATION</th>\n",
              "      <th>january_min_temp</th>\n",
              "      <th>january_avg_temp</th>\n",
              "      <th>...</th>\n",
              "      <th>days_above_80F</th>\n",
              "      <th>days_above_90F</th>\n",
              "      <th>days_above_100F</th>\n",
              "      <th>days_above_110F</th>\n",
              "      <th>direction_max_wind_speed</th>\n",
              "      <th>direction_peak_wind_speed</th>\n",
              "      <th>max_wind_speed</th>\n",
              "      <th>days_with_fog</th>\n",
              "      <th>site_eui</th>\n",
              "      <th>id</th>\n",
              "    </tr>\n",
              "  </thead>\n",
              "  <tbody>\n",
              "    <tr>\n",
              "      <th>0</th>\n",
              "      <td>1</td>\n",
              "      <td>State_1</td>\n",
              "      <td>Commercial</td>\n",
              "      <td>Grocery_store_or_food_market</td>\n",
              "      <td>61242.0</td>\n",
              "      <td>1942.0</td>\n",
              "      <td>11.0</td>\n",
              "      <td>2.4</td>\n",
              "      <td>36</td>\n",
              "      <td>50.5</td>\n",
              "      <td>...</td>\n",
              "      <td>14</td>\n",
              "      <td>0</td>\n",
              "      <td>0</td>\n",
              "      <td>0</td>\n",
              "      <td>1.0</td>\n",
              "      <td>1.0</td>\n",
              "      <td>1.0</td>\n",
              "      <td>NaN</td>\n",
              "      <td>248.682615</td>\n",
              "      <td>0</td>\n",
              "    </tr>\n",
              "    <tr>\n",
              "      <th>1</th>\n",
              "      <td>1</td>\n",
              "      <td>State_1</td>\n",
              "      <td>Commercial</td>\n",
              "      <td>Warehouse_Distribution_or_Shipping_center</td>\n",
              "      <td>274000.0</td>\n",
              "      <td>1955.0</td>\n",
              "      <td>45.0</td>\n",
              "      <td>1.8</td>\n",
              "      <td>36</td>\n",
              "      <td>50.5</td>\n",
              "      <td>...</td>\n",
              "      <td>14</td>\n",
              "      <td>0</td>\n",
              "      <td>0</td>\n",
              "      <td>0</td>\n",
              "      <td>1.0</td>\n",
              "      <td>NaN</td>\n",
              "      <td>1.0</td>\n",
              "      <td>12.0</td>\n",
              "      <td>26.500150</td>\n",
              "      <td>1</td>\n",
              "    </tr>\n",
              "    <tr>\n",
              "      <th>2</th>\n",
              "      <td>1</td>\n",
              "      <td>State_1</td>\n",
              "      <td>Commercial</td>\n",
              "      <td>Retail_Enclosed_mall</td>\n",
              "      <td>280025.0</td>\n",
              "      <td>1951.0</td>\n",
              "      <td>97.0</td>\n",
              "      <td>1.8</td>\n",
              "      <td>36</td>\n",
              "      <td>50.5</td>\n",
              "      <td>...</td>\n",
              "      <td>14</td>\n",
              "      <td>0</td>\n",
              "      <td>0</td>\n",
              "      <td>0</td>\n",
              "      <td>1.0</td>\n",
              "      <td>NaN</td>\n",
              "      <td>1.0</td>\n",
              "      <td>12.0</td>\n",
              "      <td>24.693619</td>\n",
              "      <td>2</td>\n",
              "    </tr>\n",
              "    <tr>\n",
              "      <th>3</th>\n",
              "      <td>1</td>\n",
              "      <td>State_1</td>\n",
              "      <td>Commercial</td>\n",
              "      <td>Education_Other_classroom</td>\n",
              "      <td>55325.0</td>\n",
              "      <td>1980.0</td>\n",
              "      <td>46.0</td>\n",
              "      <td>1.8</td>\n",
              "      <td>36</td>\n",
              "      <td>50.5</td>\n",
              "      <td>...</td>\n",
              "      <td>14</td>\n",
              "      <td>0</td>\n",
              "      <td>0</td>\n",
              "      <td>0</td>\n",
              "      <td>1.0</td>\n",
              "      <td>NaN</td>\n",
              "      <td>1.0</td>\n",
              "      <td>12.0</td>\n",
              "      <td>48.406926</td>\n",
              "      <td>3</td>\n",
              "    </tr>\n",
              "    <tr>\n",
              "      <th>4</th>\n",
              "      <td>1</td>\n",
              "      <td>State_1</td>\n",
              "      <td>Commercial</td>\n",
              "      <td>Warehouse_Nonrefrigerated</td>\n",
              "      <td>66000.0</td>\n",
              "      <td>1985.0</td>\n",
              "      <td>100.0</td>\n",
              "      <td>2.4</td>\n",
              "      <td>36</td>\n",
              "      <td>50.5</td>\n",
              "      <td>...</td>\n",
              "      <td>14</td>\n",
              "      <td>0</td>\n",
              "      <td>0</td>\n",
              "      <td>0</td>\n",
              "      <td>1.0</td>\n",
              "      <td>1.0</td>\n",
              "      <td>1.0</td>\n",
              "      <td>NaN</td>\n",
              "      <td>3.899395</td>\n",
              "      <td>4</td>\n",
              "    </tr>\n",
              "  </tbody>\n",
              "</table>\n",
              "<p>5 rows × 64 columns</p>\n",
              "</div>\n",
              "    <div class=\"colab-df-buttons\">\n",
              "\n",
              "  <div class=\"colab-df-container\">\n",
              "    <button class=\"colab-df-convert\" onclick=\"convertToInteractive('df-52ae9ff7-9592-4c6d-996f-b6d2af3dbcd9')\"\n",
              "            title=\"Convert this dataframe to an interactive table.\"\n",
              "            style=\"display:none;\">\n",
              "\n",
              "  <svg xmlns=\"http://www.w3.org/2000/svg\" height=\"24px\" viewBox=\"0 -960 960 960\">\n",
              "    <path d=\"M120-120v-720h720v720H120Zm60-500h600v-160H180v160Zm220 220h160v-160H400v160Zm0 220h160v-160H400v160ZM180-400h160v-160H180v160Zm440 0h160v-160H620v160ZM180-180h160v-160H180v160Zm440 0h160v-160H620v160Z\"/>\n",
              "  </svg>\n",
              "    </button>\n",
              "\n",
              "  <style>\n",
              "    .colab-df-container {\n",
              "      display:flex;\n",
              "      gap: 12px;\n",
              "    }\n",
              "\n",
              "    .colab-df-convert {\n",
              "      background-color: #E8F0FE;\n",
              "      border: none;\n",
              "      border-radius: 50%;\n",
              "      cursor: pointer;\n",
              "      display: none;\n",
              "      fill: #1967D2;\n",
              "      height: 32px;\n",
              "      padding: 0 0 0 0;\n",
              "      width: 32px;\n",
              "    }\n",
              "\n",
              "    .colab-df-convert:hover {\n",
              "      background-color: #E2EBFA;\n",
              "      box-shadow: 0px 1px 2px rgba(60, 64, 67, 0.3), 0px 1px 3px 1px rgba(60, 64, 67, 0.15);\n",
              "      fill: #174EA6;\n",
              "    }\n",
              "\n",
              "    .colab-df-buttons div {\n",
              "      margin-bottom: 4px;\n",
              "    }\n",
              "\n",
              "    [theme=dark] .colab-df-convert {\n",
              "      background-color: #3B4455;\n",
              "      fill: #D2E3FC;\n",
              "    }\n",
              "\n",
              "    [theme=dark] .colab-df-convert:hover {\n",
              "      background-color: #434B5C;\n",
              "      box-shadow: 0px 1px 3px 1px rgba(0, 0, 0, 0.15);\n",
              "      filter: drop-shadow(0px 1px 2px rgba(0, 0, 0, 0.3));\n",
              "      fill: #FFFFFF;\n",
              "    }\n",
              "  </style>\n",
              "\n",
              "    <script>\n",
              "      const buttonEl =\n",
              "        document.querySelector('#df-52ae9ff7-9592-4c6d-996f-b6d2af3dbcd9 button.colab-df-convert');\n",
              "      buttonEl.style.display =\n",
              "        google.colab.kernel.accessAllowed ? 'block' : 'none';\n",
              "\n",
              "      async function convertToInteractive(key) {\n",
              "        const element = document.querySelector('#df-52ae9ff7-9592-4c6d-996f-b6d2af3dbcd9');\n",
              "        const dataTable =\n",
              "          await google.colab.kernel.invokeFunction('convertToInteractive',\n",
              "                                                    [key], {});\n",
              "        if (!dataTable) return;\n",
              "\n",
              "        const docLinkHtml = 'Like what you see? Visit the ' +\n",
              "          '<a target=\"_blank\" href=https://colab.research.google.com/notebooks/data_table.ipynb>data table notebook</a>'\n",
              "          + ' to learn more about interactive tables.';\n",
              "        element.innerHTML = '';\n",
              "        dataTable['output_type'] = 'display_data';\n",
              "        await google.colab.output.renderOutput(dataTable, element);\n",
              "        const docLink = document.createElement('div');\n",
              "        docLink.innerHTML = docLinkHtml;\n",
              "        element.appendChild(docLink);\n",
              "      }\n",
              "    </script>\n",
              "  </div>\n",
              "\n",
              "\n",
              "<div id=\"df-5e384cdd-b828-43e2-8c6f-0f1d970af1d8\">\n",
              "  <button class=\"colab-df-quickchart\" onclick=\"quickchart('df-5e384cdd-b828-43e2-8c6f-0f1d970af1d8')\"\n",
              "            title=\"Suggest charts\"\n",
              "            style=\"display:none;\">\n",
              "\n",
              "<svg xmlns=\"http://www.w3.org/2000/svg\" height=\"24px\"viewBox=\"0 0 24 24\"\n",
              "     width=\"24px\">\n",
              "    <g>\n",
              "        <path d=\"M19 3H5c-1.1 0-2 .9-2 2v14c0 1.1.9 2 2 2h14c1.1 0 2-.9 2-2V5c0-1.1-.9-2-2-2zM9 17H7v-7h2v7zm4 0h-2V7h2v10zm4 0h-2v-4h2v4z\"/>\n",
              "    </g>\n",
              "</svg>\n",
              "  </button>\n",
              "\n",
              "<style>\n",
              "  .colab-df-quickchart {\n",
              "      --bg-color: #E8F0FE;\n",
              "      --fill-color: #1967D2;\n",
              "      --hover-bg-color: #E2EBFA;\n",
              "      --hover-fill-color: #174EA6;\n",
              "      --disabled-fill-color: #AAA;\n",
              "      --disabled-bg-color: #DDD;\n",
              "  }\n",
              "\n",
              "  [theme=dark] .colab-df-quickchart {\n",
              "      --bg-color: #3B4455;\n",
              "      --fill-color: #D2E3FC;\n",
              "      --hover-bg-color: #434B5C;\n",
              "      --hover-fill-color: #FFFFFF;\n",
              "      --disabled-bg-color: #3B4455;\n",
              "      --disabled-fill-color: #666;\n",
              "  }\n",
              "\n",
              "  .colab-df-quickchart {\n",
              "    background-color: var(--bg-color);\n",
              "    border: none;\n",
              "    border-radius: 50%;\n",
              "    cursor: pointer;\n",
              "    display: none;\n",
              "    fill: var(--fill-color);\n",
              "    height: 32px;\n",
              "    padding: 0;\n",
              "    width: 32px;\n",
              "  }\n",
              "\n",
              "  .colab-df-quickchart:hover {\n",
              "    background-color: var(--hover-bg-color);\n",
              "    box-shadow: 0 1px 2px rgba(60, 64, 67, 0.3), 0 1px 3px 1px rgba(60, 64, 67, 0.15);\n",
              "    fill: var(--button-hover-fill-color);\n",
              "  }\n",
              "\n",
              "  .colab-df-quickchart-complete:disabled,\n",
              "  .colab-df-quickchart-complete:disabled:hover {\n",
              "    background-color: var(--disabled-bg-color);\n",
              "    fill: var(--disabled-fill-color);\n",
              "    box-shadow: none;\n",
              "  }\n",
              "\n",
              "  .colab-df-spinner {\n",
              "    border: 2px solid var(--fill-color);\n",
              "    border-color: transparent;\n",
              "    border-bottom-color: var(--fill-color);\n",
              "    animation:\n",
              "      spin 1s steps(1) infinite;\n",
              "  }\n",
              "\n",
              "  @keyframes spin {\n",
              "    0% {\n",
              "      border-color: transparent;\n",
              "      border-bottom-color: var(--fill-color);\n",
              "      border-left-color: var(--fill-color);\n",
              "    }\n",
              "    20% {\n",
              "      border-color: transparent;\n",
              "      border-left-color: var(--fill-color);\n",
              "      border-top-color: var(--fill-color);\n",
              "    }\n",
              "    30% {\n",
              "      border-color: transparent;\n",
              "      border-left-color: var(--fill-color);\n",
              "      border-top-color: var(--fill-color);\n",
              "      border-right-color: var(--fill-color);\n",
              "    }\n",
              "    40% {\n",
              "      border-color: transparent;\n",
              "      border-right-color: var(--fill-color);\n",
              "      border-top-color: var(--fill-color);\n",
              "    }\n",
              "    60% {\n",
              "      border-color: transparent;\n",
              "      border-right-color: var(--fill-color);\n",
              "    }\n",
              "    80% {\n",
              "      border-color: transparent;\n",
              "      border-right-color: var(--fill-color);\n",
              "      border-bottom-color: var(--fill-color);\n",
              "    }\n",
              "    90% {\n",
              "      border-color: transparent;\n",
              "      border-bottom-color: var(--fill-color);\n",
              "    }\n",
              "  }\n",
              "</style>\n",
              "\n",
              "  <script>\n",
              "    async function quickchart(key) {\n",
              "      const quickchartButtonEl =\n",
              "        document.querySelector('#' + key + ' button');\n",
              "      quickchartButtonEl.disabled = true;  // To prevent multiple clicks.\n",
              "      quickchartButtonEl.classList.add('colab-df-spinner');\n",
              "      try {\n",
              "        const charts = await google.colab.kernel.invokeFunction(\n",
              "            'suggestCharts', [key], {});\n",
              "      } catch (error) {\n",
              "        console.error('Error during call to suggestCharts:', error);\n",
              "      }\n",
              "      quickchartButtonEl.classList.remove('colab-df-spinner');\n",
              "      quickchartButtonEl.classList.add('colab-df-quickchart-complete');\n",
              "    }\n",
              "    (() => {\n",
              "      let quickchartButtonEl =\n",
              "        document.querySelector('#df-5e384cdd-b828-43e2-8c6f-0f1d970af1d8 button');\n",
              "      quickchartButtonEl.style.display =\n",
              "        google.colab.kernel.accessAllowed ? 'block' : 'none';\n",
              "    })();\n",
              "  </script>\n",
              "</div>\n",
              "\n",
              "    </div>\n",
              "  </div>\n"
            ],
            "application/vnd.google.colaboratory.intrinsic+json": {
              "type": "dataframe",
              "variable_name": "df"
            }
          },
          "metadata": {},
          "execution_count": 3
        }
      ]
    },
    {
      "cell_type": "code",
      "source": [
        "df.info()"
      ],
      "metadata": {
        "colab": {
          "base_uri": "https://localhost:8080/"
        },
        "id": "eV9DtEewGk9v",
        "outputId": "a5803b43-c89a-45e3-eb93-85cb744b8c90"
      },
      "execution_count": null,
      "outputs": [
        {
          "output_type": "stream",
          "name": "stdout",
          "text": [
            "<class 'pandas.core.frame.DataFrame'>\n",
            "RangeIndex: 75757 entries, 0 to 75756\n",
            "Data columns (total 64 columns):\n",
            " #   Column                     Non-Null Count  Dtype  \n",
            "---  ------                     --------------  -----  \n",
            " 0   Year_Factor                75757 non-null  int64  \n",
            " 1   State_Factor               75757 non-null  object \n",
            " 2   building_class             75757 non-null  object \n",
            " 3   facility_type              75757 non-null  object \n",
            " 4   floor_area                 75757 non-null  float64\n",
            " 5   year_built                 73920 non-null  float64\n",
            " 6   energy_star_rating         49048 non-null  float64\n",
            " 7   ELEVATION                  75757 non-null  float64\n",
            " 8   january_min_temp           75757 non-null  int64  \n",
            " 9   january_avg_temp           75757 non-null  float64\n",
            " 10  january_max_temp           75757 non-null  int64  \n",
            " 11  february_min_temp          75757 non-null  int64  \n",
            " 12  february_avg_temp          75757 non-null  float64\n",
            " 13  february_max_temp          75757 non-null  int64  \n",
            " 14  march_min_temp             75757 non-null  int64  \n",
            " 15  march_avg_temp             75757 non-null  float64\n",
            " 16  march_max_temp             75757 non-null  int64  \n",
            " 17  april_min_temp             75757 non-null  int64  \n",
            " 18  april_avg_temp             75757 non-null  float64\n",
            " 19  april_max_temp             75757 non-null  int64  \n",
            " 20  may_min_temp               75757 non-null  int64  \n",
            " 21  may_avg_temp               75757 non-null  float64\n",
            " 22  may_max_temp               75757 non-null  int64  \n",
            " 23  june_min_temp              75757 non-null  int64  \n",
            " 24  june_avg_temp              75757 non-null  float64\n",
            " 25  june_max_temp              75757 non-null  int64  \n",
            " 26  july_min_temp              75757 non-null  int64  \n",
            " 27  july_avg_temp              75757 non-null  float64\n",
            " 28  july_max_temp              75757 non-null  int64  \n",
            " 29  august_min_temp            75757 non-null  int64  \n",
            " 30  august_avg_temp            75757 non-null  float64\n",
            " 31  august_max_temp            75757 non-null  int64  \n",
            " 32  september_min_temp         75757 non-null  int64  \n",
            " 33  september_avg_temp         75757 non-null  float64\n",
            " 34  september_max_temp         75757 non-null  int64  \n",
            " 35  october_min_temp           75757 non-null  int64  \n",
            " 36  october_avg_temp           75757 non-null  float64\n",
            " 37  october_max_temp           75757 non-null  int64  \n",
            " 38  november_min_temp          75757 non-null  int64  \n",
            " 39  november_avg_temp          75757 non-null  float64\n",
            " 40  november_max_temp          75757 non-null  int64  \n",
            " 41  december_min_temp          75757 non-null  int64  \n",
            " 42  december_avg_temp          75757 non-null  float64\n",
            " 43  december_max_temp          75757 non-null  int64  \n",
            " 44  cooling_degree_days        75757 non-null  int64  \n",
            " 45  heating_degree_days        75757 non-null  int64  \n",
            " 46  precipitation_inches       75757 non-null  float64\n",
            " 47  snowfall_inches            75757 non-null  float64\n",
            " 48  snowdepth_inches           75757 non-null  int64  \n",
            " 49  avg_temp                   75757 non-null  float64\n",
            " 50  days_below_30F             75757 non-null  int64  \n",
            " 51  days_below_20F             75757 non-null  int64  \n",
            " 52  days_below_10F             75757 non-null  int64  \n",
            " 53  days_below_0F              75757 non-null  int64  \n",
            " 54  days_above_80F             75757 non-null  int64  \n",
            " 55  days_above_90F             75757 non-null  int64  \n",
            " 56  days_above_100F            75757 non-null  int64  \n",
            " 57  days_above_110F            75757 non-null  int64  \n",
            " 58  direction_max_wind_speed   34675 non-null  float64\n",
            " 59  direction_peak_wind_speed  33946 non-null  float64\n",
            " 60  max_wind_speed             34675 non-null  float64\n",
            " 61  days_with_fog              29961 non-null  float64\n",
            " 62  site_eui                   75757 non-null  float64\n",
            " 63  id                         75757 non-null  int64  \n",
            "dtypes: float64(24), int64(37), object(3)\n",
            "memory usage: 37.0+ MB\n"
          ]
        }
      ]
    },
    {
      "cell_type": "code",
      "source": [
        "df.drop([\"days_with_fog\", \"max_wind_speed\", \"direction_max_wind_speed\", \"direction_peak_wind_speed\",\"id\"], inplace=True, axis=1)"
      ],
      "metadata": {
        "id": "RTgQ9N5XGpoV"
      },
      "execution_count": null,
      "outputs": []
    },
    {
      "cell_type": "code",
      "source": [
        "df.isnull().sum().sort_values(ascending=False).head(10)"
      ],
      "metadata": {
        "colab": {
          "base_uri": "https://localhost:8080/",
          "height": 397
        },
        "id": "F_PV9oBpHcMh",
        "outputId": "eab05ad7-9643-428b-ea63-ba5b892cb6c5"
      },
      "execution_count": null,
      "outputs": [
        {
          "output_type": "execute_result",
          "data": {
            "text/plain": [
              "energy_star_rating     26709\n",
              "year_built              1837\n",
              "Year_Factor                0\n",
              "heating_degree_days        0\n",
              "september_avg_temp         0\n",
              "september_max_temp         0\n",
              "october_min_temp           0\n",
              "october_avg_temp           0\n",
              "october_max_temp           0\n",
              "november_min_temp          0\n",
              "dtype: int64"
            ],
            "text/html": [
              "<div>\n",
              "<style scoped>\n",
              "    .dataframe tbody tr th:only-of-type {\n",
              "        vertical-align: middle;\n",
              "    }\n",
              "\n",
              "    .dataframe tbody tr th {\n",
              "        vertical-align: top;\n",
              "    }\n",
              "\n",
              "    .dataframe thead th {\n",
              "        text-align: right;\n",
              "    }\n",
              "</style>\n",
              "<table border=\"1\" class=\"dataframe\">\n",
              "  <thead>\n",
              "    <tr style=\"text-align: right;\">\n",
              "      <th></th>\n",
              "      <th>0</th>\n",
              "    </tr>\n",
              "  </thead>\n",
              "  <tbody>\n",
              "    <tr>\n",
              "      <th>energy_star_rating</th>\n",
              "      <td>26709</td>\n",
              "    </tr>\n",
              "    <tr>\n",
              "      <th>year_built</th>\n",
              "      <td>1837</td>\n",
              "    </tr>\n",
              "    <tr>\n",
              "      <th>Year_Factor</th>\n",
              "      <td>0</td>\n",
              "    </tr>\n",
              "    <tr>\n",
              "      <th>heating_degree_days</th>\n",
              "      <td>0</td>\n",
              "    </tr>\n",
              "    <tr>\n",
              "      <th>september_avg_temp</th>\n",
              "      <td>0</td>\n",
              "    </tr>\n",
              "    <tr>\n",
              "      <th>september_max_temp</th>\n",
              "      <td>0</td>\n",
              "    </tr>\n",
              "    <tr>\n",
              "      <th>october_min_temp</th>\n",
              "      <td>0</td>\n",
              "    </tr>\n",
              "    <tr>\n",
              "      <th>october_avg_temp</th>\n",
              "      <td>0</td>\n",
              "    </tr>\n",
              "    <tr>\n",
              "      <th>october_max_temp</th>\n",
              "      <td>0</td>\n",
              "    </tr>\n",
              "    <tr>\n",
              "      <th>november_min_temp</th>\n",
              "      <td>0</td>\n",
              "    </tr>\n",
              "  </tbody>\n",
              "</table>\n",
              "</div><br><label><b>dtype:</b> int64</label>"
            ]
          },
          "metadata": {},
          "execution_count": 6
        }
      ]
    },
    {
      "cell_type": "code",
      "source": [
        "df.drop([\"energy_star_rating\"], inplace=True, axis=1)"
      ],
      "metadata": {
        "id": "vyEpNosEHpiQ"
      },
      "execution_count": null,
      "outputs": []
    },
    {
      "cell_type": "code",
      "source": [
        "np.array(df[\"year_built\"]).reshape(-1, 1).shape"
      ],
      "metadata": {
        "colab": {
          "base_uri": "https://localhost:8080/"
        },
        "id": "TKbnD_oSICUZ",
        "outputId": "0da89e94-af2c-4dba-f3b1-27203f609a9e"
      },
      "execution_count": null,
      "outputs": [
        {
          "output_type": "execute_result",
          "data": {
            "text/plain": [
              "(75757, 1)"
            ]
          },
          "metadata": {},
          "execution_count": 8
        }
      ]
    },
    {
      "cell_type": "code",
      "source": [
        "from sklearn.impute import SimpleImputer\n",
        "imputer = SimpleImputer(missing_values=np.nan, strategy=\"mean\")\n",
        "df[\"year_built\"] = imputer.fit_transform(np.array(df[\"year_built\"]).reshape(-1, 1))"
      ],
      "metadata": {
        "id": "lDh3i5BQH3ys"
      },
      "execution_count": null,
      "outputs": []
    },
    {
      "cell_type": "code",
      "source": [
        "df.info()"
      ],
      "metadata": {
        "colab": {
          "base_uri": "https://localhost:8080/"
        },
        "id": "unWetbq5Ivjc",
        "outputId": "54abb2c3-d4e6-4f69-8f3f-96d09c073138"
      },
      "execution_count": null,
      "outputs": [
        {
          "output_type": "stream",
          "name": "stdout",
          "text": [
            "<class 'pandas.core.frame.DataFrame'>\n",
            "RangeIndex: 75757 entries, 0 to 75756\n",
            "Data columns (total 58 columns):\n",
            " #   Column                Non-Null Count  Dtype  \n",
            "---  ------                --------------  -----  \n",
            " 0   Year_Factor           75757 non-null  int64  \n",
            " 1   State_Factor          75757 non-null  object \n",
            " 2   building_class        75757 non-null  object \n",
            " 3   facility_type         75757 non-null  object \n",
            " 4   floor_area            75757 non-null  float64\n",
            " 5   year_built            75757 non-null  float64\n",
            " 6   ELEVATION             75757 non-null  float64\n",
            " 7   january_min_temp      75757 non-null  int64  \n",
            " 8   january_avg_temp      75757 non-null  float64\n",
            " 9   january_max_temp      75757 non-null  int64  \n",
            " 10  february_min_temp     75757 non-null  int64  \n",
            " 11  february_avg_temp     75757 non-null  float64\n",
            " 12  february_max_temp     75757 non-null  int64  \n",
            " 13  march_min_temp        75757 non-null  int64  \n",
            " 14  march_avg_temp        75757 non-null  float64\n",
            " 15  march_max_temp        75757 non-null  int64  \n",
            " 16  april_min_temp        75757 non-null  int64  \n",
            " 17  april_avg_temp        75757 non-null  float64\n",
            " 18  april_max_temp        75757 non-null  int64  \n",
            " 19  may_min_temp          75757 non-null  int64  \n",
            " 20  may_avg_temp          75757 non-null  float64\n",
            " 21  may_max_temp          75757 non-null  int64  \n",
            " 22  june_min_temp         75757 non-null  int64  \n",
            " 23  june_avg_temp         75757 non-null  float64\n",
            " 24  june_max_temp         75757 non-null  int64  \n",
            " 25  july_min_temp         75757 non-null  int64  \n",
            " 26  july_avg_temp         75757 non-null  float64\n",
            " 27  july_max_temp         75757 non-null  int64  \n",
            " 28  august_min_temp       75757 non-null  int64  \n",
            " 29  august_avg_temp       75757 non-null  float64\n",
            " 30  august_max_temp       75757 non-null  int64  \n",
            " 31  september_min_temp    75757 non-null  int64  \n",
            " 32  september_avg_temp    75757 non-null  float64\n",
            " 33  september_max_temp    75757 non-null  int64  \n",
            " 34  october_min_temp      75757 non-null  int64  \n",
            " 35  october_avg_temp      75757 non-null  float64\n",
            " 36  october_max_temp      75757 non-null  int64  \n",
            " 37  november_min_temp     75757 non-null  int64  \n",
            " 38  november_avg_temp     75757 non-null  float64\n",
            " 39  november_max_temp     75757 non-null  int64  \n",
            " 40  december_min_temp     75757 non-null  int64  \n",
            " 41  december_avg_temp     75757 non-null  float64\n",
            " 42  december_max_temp     75757 non-null  int64  \n",
            " 43  cooling_degree_days   75757 non-null  int64  \n",
            " 44  heating_degree_days   75757 non-null  int64  \n",
            " 45  precipitation_inches  75757 non-null  float64\n",
            " 46  snowfall_inches       75757 non-null  float64\n",
            " 47  snowdepth_inches      75757 non-null  int64  \n",
            " 48  avg_temp              75757 non-null  float64\n",
            " 49  days_below_30F        75757 non-null  int64  \n",
            " 50  days_below_20F        75757 non-null  int64  \n",
            " 51  days_below_10F        75757 non-null  int64  \n",
            " 52  days_below_0F         75757 non-null  int64  \n",
            " 53  days_above_80F        75757 non-null  int64  \n",
            " 54  days_above_90F        75757 non-null  int64  \n",
            " 55  days_above_100F       75757 non-null  int64  \n",
            " 56  days_above_110F       75757 non-null  int64  \n",
            " 57  site_eui              75757 non-null  float64\n",
            "dtypes: float64(19), int64(36), object(3)\n",
            "memory usage: 33.5+ MB\n"
          ]
        }
      ]
    },
    {
      "cell_type": "code",
      "source": [
        "df.duplicated().sum()"
      ],
      "metadata": {
        "colab": {
          "base_uri": "https://localhost:8080/"
        },
        "id": "osAhjA-vIxqb",
        "outputId": "ca1e9963-5433-4ff7-cf78-5c61f056c810"
      },
      "execution_count": null,
      "outputs": [
        {
          "output_type": "execute_result",
          "data": {
            "text/plain": [
              "42"
            ]
          },
          "metadata": {},
          "execution_count": 11
        }
      ]
    },
    {
      "cell_type": "code",
      "source": [
        "df.drop_duplicates(inplace=True)"
      ],
      "metadata": {
        "id": "O91JJyLTBjc3"
      },
      "execution_count": null,
      "outputs": []
    },
    {
      "cell_type": "code",
      "source": [
        "df.duplicated().sum()"
      ],
      "metadata": {
        "colab": {
          "base_uri": "https://localhost:8080/"
        },
        "id": "3KWxUCddBn_n",
        "outputId": "fe1190c7-a147-4f17-f70a-5b93e30780ac"
      },
      "execution_count": null,
      "outputs": [
        {
          "output_type": "execute_result",
          "data": {
            "text/plain": [
              "0"
            ]
          },
          "metadata": {},
          "execution_count": 13
        }
      ]
    },
    {
      "cell_type": "markdown",
      "source": [
        "## **Data Encoding**"
      ],
      "metadata": {
        "id": "8gNqN0puJUm5"
      }
    },
    {
      "cell_type": "code",
      "source": [
        "for col in [\"State_Factor\", \"building_class\", \"facility_type\"]:\n",
        "  print(f'number of column {col} is : ',df[col].nunique())\n",
        "  print(f'number of column {col} is : ',df[col].unique())"
      ],
      "metadata": {
        "colab": {
          "base_uri": "https://localhost:8080/"
        },
        "id": "QeiX_SVoJEqE",
        "outputId": "565fd818-71c3-4619-edda-5254b6415620"
      },
      "execution_count": null,
      "outputs": [
        {
          "output_type": "stream",
          "name": "stdout",
          "text": [
            "number of column State_Factor is :  7\n",
            "number of column State_Factor is :  ['State_1' 'State_2' 'State_4' 'State_6' 'State_8' 'State_10' 'State_11']\n",
            "number of column building_class is :  2\n",
            "number of column building_class is :  ['Commercial' 'Residential']\n",
            "number of column facility_type is :  60\n",
            "number of column facility_type is :  ['Grocery_store_or_food_market'\n",
            " 'Warehouse_Distribution_or_Shipping_center' 'Retail_Enclosed_mall'\n",
            " 'Education_Other_classroom' 'Warehouse_Nonrefrigerated'\n",
            " 'Warehouse_Selfstorage' 'Office_Uncategorized' 'Data_Center'\n",
            " 'Commercial_Other' 'Mixed_Use_Predominantly_Commercial'\n",
            " 'Office_Medical_non_diagnostic' 'Education_College_or_university'\n",
            " 'Industrial' 'Laboratory' 'Public_Assembly_Entertainment_culture'\n",
            " 'Retail_Vehicle_dealership_showroom' 'Retail_Uncategorized'\n",
            " 'Lodging_Hotel' 'Retail_Strip_shopping_mall' 'Education_Uncategorized'\n",
            " 'Health_Care_Inpatient' 'Public_Assembly_Drama_theater'\n",
            " 'Public_Assembly_Social_meeting' 'Religious_worship'\n",
            " 'Mixed_Use_Commercial_and_Residential' 'Office_Bank_or_other_financial'\n",
            " 'Parking_Garage' 'Commercial_Unknown'\n",
            " 'Service_Vehicle_service_repair_shop' 'Service_Drycleaning_or_Laundry'\n",
            " 'Public_Assembly_Recreation' 'Service_Uncategorized'\n",
            " 'Warehouse_Refrigerated' 'Food_Service_Uncategorized'\n",
            " 'Health_Care_Uncategorized' 'Food_Service_Other'\n",
            " 'Public_Assembly_Movie_Theater' 'Food_Service_Restaurant_or_cafeteria'\n",
            " 'Food_Sales' 'Public_Assembly_Uncategorized' 'Nursing_Home'\n",
            " 'Health_Care_Outpatient_Clinic' 'Education_Preschool_or_daycare'\n",
            " '5plus_Unit_Building' 'Multifamily_Uncategorized'\n",
            " 'Lodging_Dormitory_or_fraternity_sorority' 'Public_Assembly_Library'\n",
            " 'Public_Safety_Uncategorized' 'Public_Safety_Fire_or_police_station'\n",
            " 'Office_Mixed_use' 'Public_Assembly_Other' 'Public_Safety_Penitentiary'\n",
            " 'Health_Care_Outpatient_Uncategorized' 'Lodging_Other'\n",
            " 'Mixed_Use_Predominantly_Residential' 'Public_Safety_Courthouse'\n",
            " 'Public_Assembly_Stadium' 'Lodging_Uncategorized' '2to4_Unit_Building'\n",
            " 'Warehouse_Uncategorized']\n"
          ]
        }
      ]
    },
    {
      "cell_type": "markdown",
      "source": [
        "# **Label Encoding**"
      ],
      "metadata": {
        "id": "JN53aOxnL8vh"
      }
    },
    {
      "cell_type": "code",
      "source": [
        "from sklearn.preprocessing import LabelEncoder\n",
        "le = LabelEncoder()\n",
        "for col in [\"State_Factor\", \"building_class\", \"facility_type\"]:\n",
        "  df[col] = le.fit_transform(df[col])"
      ],
      "metadata": {
        "id": "eCnVzh3jKktO"
      },
      "execution_count": null,
      "outputs": []
    },
    {
      "cell_type": "code",
      "source": [
        "df[\"State_Factor\"].unique()"
      ],
      "metadata": {
        "colab": {
          "base_uri": "https://localhost:8080/"
        },
        "id": "s13xp_ZhLj_G",
        "outputId": "25ad66d5-090b-4400-bcab-67f1584708e0"
      },
      "execution_count": null,
      "outputs": [
        {
          "output_type": "execute_result",
          "data": {
            "text/plain": [
              "array([0, 3, 4, 5, 6, 1, 2])"
            ]
          },
          "metadata": {},
          "execution_count": 16
        }
      ]
    },
    {
      "cell_type": "markdown",
      "source": [
        "# **Data Scaling (Normalization)**\n",
        "MinMaxScaler"
      ],
      "metadata": {
        "id": "9s9_avW2NOjQ"
      }
    },
    {
      "cell_type": "code",
      "source": [
        "x =df.drop([\"State_Factor\"], axis=1)\n",
        "y = df[\"State_Factor\"]           #y-> Target"
      ],
      "metadata": {
        "id": "Kf-3uCcBLvFm"
      },
      "execution_count": null,
      "outputs": []
    },
    {
      "cell_type": "code",
      "source": [
        "from sklearn.preprocessing import MinMaxScaler\n",
        "scaler = MinMaxScaler()\n",
        "x = scaler.fit_transform(x)"
      ],
      "metadata": {
        "id": "lDtMRzadPj8A"
      },
      "execution_count": null,
      "outputs": []
    },
    {
      "cell_type": "code",
      "source": [
        "x.min(), x.max()"
      ],
      "metadata": {
        "colab": {
          "base_uri": "https://localhost:8080/"
        },
        "id": "2O9Q2CcAV2Sv",
        "outputId": "8dee4ceb-2467-4714-8c7d-5aab6bb7d285"
      },
      "execution_count": null,
      "outputs": [
        {
          "output_type": "execute_result",
          "data": {
            "text/plain": [
              "(0.0, 1.0000000000000002)"
            ]
          },
          "metadata": {},
          "execution_count": 19
        }
      ]
    },
    {
      "cell_type": "code",
      "source": [
        "print(\"state factor:   \",y.value_counts())\n",
        "print(\"Normalization: \", y.value_counts(normalize=True))\n"
      ],
      "metadata": {
        "colab": {
          "base_uri": "https://localhost:8080/"
        },
        "id": "QWu51fNYWAkg",
        "outputId": "9f333ee8-58d6-42bb-dce2-aa6848914203"
      },
      "execution_count": null,
      "outputs": [
        {
          "output_type": "stream",
          "name": "stdout",
          "text": [
            "state factor:    State_Factor\n",
            "5    50804\n",
            "2     6412\n",
            "0     5613\n",
            "3     4870\n",
            "4     4300\n",
            "6     3701\n",
            "1       15\n",
            "Name: count, dtype: int64\n",
            "Normalization:  State_Factor\n",
            "5    0.670990\n",
            "2    0.084686\n",
            "0    0.074133\n",
            "3    0.064320\n",
            "4    0.056792\n",
            "6    0.048881\n",
            "1    0.000198\n",
            "Name: proportion, dtype: float64\n"
          ]
        }
      ]
    },
    {
      "cell_type": "code",
      "source": [
        "x.shape, y.shape"
      ],
      "metadata": {
        "colab": {
          "base_uri": "https://localhost:8080/"
        },
        "id": "-S3nDvD2ZPrT",
        "outputId": "674f76b4-28ad-4751-9cb9-9dcfa4027806"
      },
      "execution_count": null,
      "outputs": [
        {
          "output_type": "execute_result",
          "data": {
            "text/plain": [
              "((75715, 57), (75715,))"
            ]
          },
          "metadata": {},
          "execution_count": 23
        }
      ]
    },
    {
      "cell_type": "markdown",
      "source": [
        "# Dimensionality Reduction"
      ],
      "metadata": {
        "id": "FmGLXaXfb3EA"
      }
    },
    {
      "cell_type": "code",
      "source": [
        "from sklearn.decomposition import PCA\n",
        "pca = PCA(n_components=32)\n",
        "x = pca.fit_transform(x)"
      ],
      "metadata": {
        "id": "ZpQZn0P3aI2L"
      },
      "execution_count": null,
      "outputs": []
    },
    {
      "cell_type": "code",
      "source": [
        "x.shape"
      ],
      "metadata": {
        "colab": {
          "base_uri": "https://localhost:8080/"
        },
        "id": "Pgp4WJNPcPVk",
        "outputId": "9f8b53a3-f8d7-4b51-e306-b3e236a19fb4"
      },
      "execution_count": null,
      "outputs": [
        {
          "output_type": "execute_result",
          "data": {
            "text/plain": [
              "(75715, 32)"
            ]
          },
          "metadata": {},
          "execution_count": 25
        }
      ]
    },
    {
      "cell_type": "markdown",
      "source": [
        "# Feature Selection"
      ],
      "metadata": {
        "id": "2RkRzc-IcX3A"
      }
    },
    {
      "cell_type": "code",
      "source": [
        "x.shape"
      ],
      "metadata": {
        "colab": {
          "base_uri": "https://localhost:8080/"
        },
        "id": "hVOxI7RKch5k",
        "outputId": "81a3a9b6-b11c-4ece-ac34-be3245ce7e76"
      },
      "execution_count": null,
      "outputs": [
        {
          "output_type": "execute_result",
          "data": {
            "text/plain": [
              "(75715, 32)"
            ]
          },
          "metadata": {},
          "execution_count": 26
        }
      ]
    },
    {
      "cell_type": "code",
      "source": [
        "#from sklearn.feature_selection import SelectKBest\n",
        "#selector = SelectKBest(k=10)\n",
        "#x = selector.fit_transform(x, y)"
      ],
      "metadata": {
        "id": "K83yDfLSc5Rz"
      },
      "execution_count": null,
      "outputs": []
    },
    {
      "cell_type": "markdown",
      "source": [
        "# Spliting Data\n",
        "### train test split"
      ],
      "metadata": {
        "id": "YR1GWw2tEzOP"
      }
    },
    {
      "cell_type": "code",
      "source": [
        "from sklearn.model_selection import train_test_split\n",
        "x_train, x_test, y_train, y_test = train_test_split(x, y, test_size=0.2, random_state=42, stratify=y)"
      ],
      "metadata": {
        "id": "VI_6YxSwE1YH"
      },
      "execution_count": null,
      "outputs": []
    },
    {
      "cell_type": "code",
      "source": [
        "print(\"X_train = \",x_train.shape ,\" y_train = \", y_train.shape)\n",
        "print(\"X_test  = \",x_test.shape ,\" y_test  = \", y_test.shape)"
      ],
      "metadata": {
        "colab": {
          "base_uri": "https://localhost:8080/"
        },
        "id": "D1x6mU1fFFNd",
        "outputId": "f9dcc37f-9846-4919-d6e4-f8f15af4b082"
      },
      "execution_count": null,
      "outputs": [
        {
          "output_type": "stream",
          "name": "stdout",
          "text": [
            "X_train =  (60572, 32)  y_train =  (60572,)\n",
            "X_test  =  (15143, 32)  y_test  =  (15143,)\n"
          ]
        }
      ]
    },
    {
      "cell_type": "code",
      "source": [],
      "metadata": {
        "id": "G0U1SDdEFT_p"
      },
      "execution_count": null,
      "outputs": []
    }
  ]
}